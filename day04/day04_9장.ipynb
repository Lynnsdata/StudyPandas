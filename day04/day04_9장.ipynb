{
 "cells": [
  {
   "cell_type": "code",
   "execution_count": null,
   "id": "19a4c455-f2f1-4ef7-abe0-f906e1d8fa4a",
   "metadata": {},
   "outputs": [],
   "source": [
    "#물건 가격을 입력받아서 가격을 출력합니다. 천단위구분기호 포함해서 소수 둘째자리까지\n",
    "#f포매팅을 이용"
   ]
  },
  {
   "cell_type": "code",
   "execution_count": 6,
   "id": "cb2db23b-7b0f-4334-b314-2e79185a3b67",
   "metadata": {},
   "outputs": [
    {
     "name": "stdin",
     "output_type": "stream",
     "text": [
      "가격을 입력하세요 : >>  777ㅇㅇ\n",
      "가격을 입력하세요 : >>  89785674\n"
     ]
    },
    {
     "name": "stdout",
     "output_type": "stream",
     "text": [
      "89,785,674.00\n"
     ]
    }
   ],
   "source": [
    "while True:\n",
    "    price = input('가격을 입력하세요 : >> ')\n",
    "    if price.isdigit():\n",
    "        price = int(price)\n",
    "        break\n",
    "print(f'{price:,.2f}')"
   ]
  },
  {
   "cell_type": "code",
   "execution_count": 7,
   "id": "3b4182e0-f141-4677-bd09-da7c77302096",
   "metadata": {},
   "outputs": [],
   "source": [
    "import re"
   ]
  },
  {
   "cell_type": "code",
   "execution_count": 9,
   "id": "4b34ec07-dc47-40d7-af00-755c84180f0e",
   "metadata": {},
   "outputs": [],
   "source": [
    "#전화번호 입력 형식 : 숫자2~3-숫자3~4-숫자4\n",
    "# 정확하게 입력될때까지 반복하고 정확히 입력된 값은 출력"
   ]
  },
  {
   "cell_type": "code",
   "execution_count": 15,
   "id": "d34db354-0e03-4ebd-8741-71384eb68dcd",
   "metadata": {},
   "outputs": [
    {
     "name": "stdin",
     "output_type": "stream",
     "text": [
      "전화번호 입력 >>> 01-222-56\n",
      "전화번호 입력 >>> 01-333-4647\n"
     ]
    },
    {
     "name": "stdout",
     "output_type": "stream",
     "text": [
      "01-333-4647\n"
     ]
    }
   ],
   "source": [
    "# while True:\n",
    "#     tel_num = input('전화번호를 입력하세요 >> ')\n",
    "#     if re.search('(\\d{2,3})-(\\d{3,4})-(\\d{4})',tel_num):\n",
    "#         break\n",
    "# print(tel_num)\n",
    "\n",
    "while True:\n",
    "    tel = input('전화번호 입력 >>>')\n",
    "    p = '^[0-9]{2,3}-[0-9]{3,4}-[0-9]{4}'\n",
    "    result = re.search(p,tel)\n",
    "    if result:\n",
    "        print(result.group())\n",
    "        break\n",
    "        "
   ]
  },
  {
   "cell_type": "code",
   "execution_count": 16,
   "id": "99f4ea7a-4bda-4f8c-809e-17a69a0767f8",
   "metadata": {},
   "outputs": [],
   "source": [
    "# 이메일 입력 아이디는 최소 5글자 이상 첫글자는 숫자, 특수문자 안됨, 영어소문자,_,숫자만 사용가능\n",
    "# 아이디@사이트 주소 (예: naver.com, daum.net)"
   ]
  },
  {
   "cell_type": "code",
   "execution_count": 21,
   "id": "3abf3b6f-edd3-4d57-bbd1-1b2b3df8ab9d",
   "metadata": {},
   "outputs": [
    {
     "name": "stdin",
     "output_type": "stream",
     "text": [
      "이메일을 입력하세요 >>  a1111@naver.com\n"
     ]
    },
    {
     "name": "stdout",
     "output_type": "stream",
     "text": [
      "a1111@naver.com\n"
     ]
    }
   ],
   "source": [
    "while True:\n",
    "    email = input('이메일을 입력하세요 >> ')\n",
    "    # e = '(^\\D&[a-z][0-9]{5:})@'\n",
    "    p = '[a-z][a-z0-9_]{4,}@[a-z]{2,}[.][a-z]{2,}'\n",
    "    patt = re.compile(p)\n",
    "    result = patt.match(email)\n",
    "    if result:\n",
    "        print(result.group())\n",
    "        break"
   ]
  },
  {
   "cell_type": "code",
   "execution_count": 26,
   "id": "ca45d207-a37c-4f8d-90ee-712abd7aa633",
   "metadata": {},
   "outputs": [
    {
     "name": "stdin",
     "output_type": "stream",
     "text": [
      "한글이름 >>  hong길동\n",
      "한글이름 >>  메롱\n"
     ]
    },
    {
     "name": "stdout",
     "output_type": "stream",
     "text": [
      "메롱\n"
     ]
    }
   ],
   "source": [
    "while True:\n",
    "    email = input('한글이름 >> ')\n",
    "    p = '[ㄱ_|가-힣]{2,}'\n",
    "    patt = re.compile(p)\n",
    "    result = patt.match(email)\n",
    "    if result:\n",
    "        print(result.group())\n",
    "        break"
   ]
  },
  {
   "cell_type": "code",
   "execution_count": null,
   "id": "f60d5ff0-e111-4f38-b400-2c73d8574d36",
   "metadata": {},
   "outputs": [],
   "source": []
  }
 ],
 "metadata": {
  "kernelspec": {
   "display_name": "Python 3 (ipykernel)",
   "language": "python",
   "name": "python3"
  },
  "language_info": {
   "codemirror_mode": {
    "name": "ipython",
    "version": 3
   },
   "file_extension": ".py",
   "mimetype": "text/x-python",
   "name": "python",
   "nbconvert_exporter": "python",
   "pygments_lexer": "ipython3",
   "version": "3.9.12"
  }
 },
 "nbformat": 4,
 "nbformat_minor": 5
}
